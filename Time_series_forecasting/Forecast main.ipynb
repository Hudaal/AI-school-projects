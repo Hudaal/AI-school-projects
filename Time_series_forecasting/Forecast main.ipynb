{
 "cells": [
  {
   "cell_type": "code",
   "execution_count": 33,
   "id": "57cfce8e-1337-4f8a-b391-5aa514e48927",
   "metadata": {},
   "outputs": [],
   "source": [
    "import matplotlib.pyplot as plt\n",
    "import numpy as np\n",
    "import pandas as pd\n",
    "import copy\n",
    "from sklearn.preprocessing import MinMaxScaler, StandardScaler\n",
    "from scipy.interpolate import make_interp_spline\n",
    "import math\n",
    "\n",
    "from PreProcess import PreProcess\n",
    "from RNN_model import RNN_model"
   ]
  },
  {
   "cell_type": "markdown",
   "id": "f0d569f5",
   "metadata": {},
   "source": [
    "### Import the train data"
   ]
  },
  {
   "cell_type": "markdown",
   "id": "8c38ddd5",
   "metadata": {},
   "source": [
    "Just to be used in this notebook"
   ]
  },
  {
   "cell_type": "code",
   "execution_count": 34,
   "id": "1c55b6b9",
   "metadata": {},
   "outputs": [
    {
     "data": {
      "text/html": [
       "<div>\n",
       "<style scoped>\n",
       "    .dataframe tbody tr th:only-of-type {\n",
       "        vertical-align: middle;\n",
       "    }\n",
       "\n",
       "    .dataframe tbody tr th {\n",
       "        vertical-align: top;\n",
       "    }\n",
       "\n",
       "    .dataframe thead th {\n",
       "        text-align: right;\n",
       "    }\n",
       "</style>\n",
       "<table border=\"1\" class=\"dataframe\">\n",
       "  <thead>\n",
       "    <tr style=\"text-align: right;\">\n",
       "      <th></th>\n",
       "      <th>start_time</th>\n",
       "      <th>hydro</th>\n",
       "      <th>micro</th>\n",
       "      <th>thermal</th>\n",
       "      <th>wind</th>\n",
       "      <th>river</th>\n",
       "      <th>total</th>\n",
       "      <th>y</th>\n",
       "      <th>sys_reg</th>\n",
       "      <th>flow</th>\n",
       "    </tr>\n",
       "  </thead>\n",
       "  <tbody>\n",
       "    <tr>\n",
       "      <th>0</th>\n",
       "      <td>2019-01-09 14:10:00</td>\n",
       "      <td>1591.839</td>\n",
       "      <td>141.928</td>\n",
       "      <td>11.5</td>\n",
       "      <td>74.428</td>\n",
       "      <td>0.0</td>\n",
       "      <td>1819.695</td>\n",
       "      <td>341.330021</td>\n",
       "      <td>10.0</td>\n",
       "      <td>-4417.4</td>\n",
       "    </tr>\n",
       "    <tr>\n",
       "      <th>1</th>\n",
       "      <td>2019-01-09 14:15:00</td>\n",
       "      <td>1591.839</td>\n",
       "      <td>141.928</td>\n",
       "      <td>11.5</td>\n",
       "      <td>74.428</td>\n",
       "      <td>0.0</td>\n",
       "      <td>1819.695</td>\n",
       "      <td>330.114330</td>\n",
       "      <td>10.0</td>\n",
       "      <td>-4417.4</td>\n",
       "    </tr>\n",
       "    <tr>\n",
       "      <th>2</th>\n",
       "      <td>2019-01-09 14:20:00</td>\n",
       "      <td>1591.839</td>\n",
       "      <td>141.928</td>\n",
       "      <td>11.5</td>\n",
       "      <td>74.428</td>\n",
       "      <td>0.0</td>\n",
       "      <td>1819.695</td>\n",
       "      <td>323.877221</td>\n",
       "      <td>10.0</td>\n",
       "      <td>-4417.4</td>\n",
       "    </tr>\n",
       "    <tr>\n",
       "      <th>3</th>\n",
       "      <td>2019-01-09 14:25:00</td>\n",
       "      <td>1591.839</td>\n",
       "      <td>141.928</td>\n",
       "      <td>11.5</td>\n",
       "      <td>74.428</td>\n",
       "      <td>0.0</td>\n",
       "      <td>1819.695</td>\n",
       "      <td>296.438463</td>\n",
       "      <td>10.0</td>\n",
       "      <td>-4417.4</td>\n",
       "    </tr>\n",
       "    <tr>\n",
       "      <th>4</th>\n",
       "      <td>2019-01-09 14:30:00</td>\n",
       "      <td>1591.839</td>\n",
       "      <td>141.928</td>\n",
       "      <td>11.5</td>\n",
       "      <td>74.428</td>\n",
       "      <td>0.0</td>\n",
       "      <td>1819.695</td>\n",
       "      <td>269.097132</td>\n",
       "      <td>10.0</td>\n",
       "      <td>-4417.4</td>\n",
       "    </tr>\n",
       "    <tr>\n",
       "      <th>...</th>\n",
       "      <td>...</td>\n",
       "      <td>...</td>\n",
       "      <td>...</td>\n",
       "      <td>...</td>\n",
       "      <td>...</td>\n",
       "      <td>...</td>\n",
       "      <td>...</td>\n",
       "      <td>...</td>\n",
       "      <td>...</td>\n",
       "      <td>...</td>\n",
       "    </tr>\n",
       "    <tr>\n",
       "      <th>225083</th>\n",
       "      <td>2021-03-01 03:05:00</td>\n",
       "      <td>1942.486</td>\n",
       "      <td>191.881</td>\n",
       "      <td>20.1</td>\n",
       "      <td>106.431</td>\n",
       "      <td>0.0</td>\n",
       "      <td>2266.098</td>\n",
       "      <td>141.618915</td>\n",
       "      <td>0.0</td>\n",
       "      <td>-2252.9</td>\n",
       "    </tr>\n",
       "    <tr>\n",
       "      <th>225084</th>\n",
       "      <td>2021-03-01 03:10:00</td>\n",
       "      <td>1942.486</td>\n",
       "      <td>191.881</td>\n",
       "      <td>20.1</td>\n",
       "      <td>106.431</td>\n",
       "      <td>0.0</td>\n",
       "      <td>2266.098</td>\n",
       "      <td>129.043820</td>\n",
       "      <td>0.0</td>\n",
       "      <td>-2252.9</td>\n",
       "    </tr>\n",
       "    <tr>\n",
       "      <th>225085</th>\n",
       "      <td>2021-03-01 03:15:00</td>\n",
       "      <td>1942.486</td>\n",
       "      <td>191.881</td>\n",
       "      <td>20.1</td>\n",
       "      <td>106.431</td>\n",
       "      <td>0.0</td>\n",
       "      <td>2266.098</td>\n",
       "      <td>94.907548</td>\n",
       "      <td>0.0</td>\n",
       "      <td>-2252.9</td>\n",
       "    </tr>\n",
       "    <tr>\n",
       "      <th>225086</th>\n",
       "      <td>2021-03-01 03:20:00</td>\n",
       "      <td>1942.486</td>\n",
       "      <td>191.881</td>\n",
       "      <td>20.1</td>\n",
       "      <td>106.431</td>\n",
       "      <td>0.0</td>\n",
       "      <td>2266.098</td>\n",
       "      <td>102.589040</td>\n",
       "      <td>0.0</td>\n",
       "      <td>-2252.9</td>\n",
       "    </tr>\n",
       "    <tr>\n",
       "      <th>225087</th>\n",
       "      <td>2021-03-01 03:25:00</td>\n",
       "      <td>1942.486</td>\n",
       "      <td>191.881</td>\n",
       "      <td>20.1</td>\n",
       "      <td>106.431</td>\n",
       "      <td>0.0</td>\n",
       "      <td>2266.098</td>\n",
       "      <td>73.829019</td>\n",
       "      <td>0.0</td>\n",
       "      <td>-2252.9</td>\n",
       "    </tr>\n",
       "  </tbody>\n",
       "</table>\n",
       "<p>225088 rows × 10 columns</p>\n",
       "</div>"
      ],
      "text/plain": [
       "                 start_time     hydro    micro  thermal     wind  river  \\\n",
       "0       2019-01-09 14:10:00  1591.839  141.928     11.5   74.428    0.0   \n",
       "1       2019-01-09 14:15:00  1591.839  141.928     11.5   74.428    0.0   \n",
       "2       2019-01-09 14:20:00  1591.839  141.928     11.5   74.428    0.0   \n",
       "3       2019-01-09 14:25:00  1591.839  141.928     11.5   74.428    0.0   \n",
       "4       2019-01-09 14:30:00  1591.839  141.928     11.5   74.428    0.0   \n",
       "...                     ...       ...      ...      ...      ...    ...   \n",
       "225083  2021-03-01 03:05:00  1942.486  191.881     20.1  106.431    0.0   \n",
       "225084  2021-03-01 03:10:00  1942.486  191.881     20.1  106.431    0.0   \n",
       "225085  2021-03-01 03:15:00  1942.486  191.881     20.1  106.431    0.0   \n",
       "225086  2021-03-01 03:20:00  1942.486  191.881     20.1  106.431    0.0   \n",
       "225087  2021-03-01 03:25:00  1942.486  191.881     20.1  106.431    0.0   \n",
       "\n",
       "           total           y  sys_reg    flow  \n",
       "0       1819.695  341.330021     10.0 -4417.4  \n",
       "1       1819.695  330.114330     10.0 -4417.4  \n",
       "2       1819.695  323.877221     10.0 -4417.4  \n",
       "3       1819.695  296.438463     10.0 -4417.4  \n",
       "4       1819.695  269.097132     10.0 -4417.4  \n",
       "...          ...         ...      ...     ...  \n",
       "225083  2266.098  141.618915      0.0 -2252.9  \n",
       "225084  2266.098  129.043820      0.0 -2252.9  \n",
       "225085  2266.098   94.907548      0.0 -2252.9  \n",
       "225086  2266.098  102.589040      0.0 -2252.9  \n",
       "225087  2266.098   73.829019      0.0 -2252.9  \n",
       "\n",
       "[225088 rows x 10 columns]"
      ]
     },
     "execution_count": 34,
     "metadata": {},
     "output_type": "execute_result"
    }
   ],
   "source": [
    "df_here = pd.read_csv('no1_train.csv')\n",
    "df_here"
   ]
  },
  {
   "cell_type": "markdown",
   "id": "0d1ef3da",
   "metadata": {},
   "source": [
    "### Preprocess train and validation dataframes"
   ]
  },
  {
   "cell_type": "code",
   "execution_count": 35,
   "id": "ef80979d",
   "metadata": {},
   "outputs": [],
   "source": [
    "model_forecast = PreProcess('no1_train.csv', 'no1_validation.csv')\n",
    "steps_shift = 12 * 2 # two hours as a sequence length"
   ]
  },
  {
   "cell_type": "code",
   "execution_count": 36,
   "id": "63497643",
   "metadata": {},
   "outputs": [
    {
     "name": "stderr",
     "output_type": "stream",
     "text": [
      "C:\\Users\\hadho\\Desktop\\pro3\\PreProcess.py:30: SettingWithCopyWarning: \n",
      "A value is trying to be set on a copy of a slice from a DataFrame\n",
      "\n",
      "See the caveats in the documentation: https://pandas.pydata.org/pandas-docs/stable/user_guide/indexing.html#returning-a-view-versus-a-copy\n",
      "  df.y[df.y > upper_value] = upper_value\n",
      "C:\\Users\\hadho\\Desktop\\pro3\\PreProcess.py:31: SettingWithCopyWarning: \n",
      "A value is trying to be set on a copy of a slice from a DataFrame\n",
      "\n",
      "See the caveats in the documentation: https://pandas.pydata.org/pandas-docs/stable/user_guide/indexing.html#returning-a-view-versus-a-copy\n",
      "  df.y[df.y < -lower_value] = -lower_value\n",
      "C:\\Users\\hadho\\Desktop\\pro3\\PreProcess.py:30: SettingWithCopyWarning: \n",
      "A value is trying to be set on a copy of a slice from a DataFrame\n",
      "\n",
      "See the caveats in the documentation: https://pandas.pydata.org/pandas-docs/stable/user_guide/indexing.html#returning-a-view-versus-a-copy\n",
      "  df.y[df.y > upper_value] = upper_value\n",
      "C:\\Users\\hadho\\Desktop\\pro3\\PreProcess.py:31: SettingWithCopyWarning: \n",
      "A value is trying to be set on a copy of a slice from a DataFrame\n",
      "\n",
      "See the caveats in the documentation: https://pandas.pydata.org/pandas-docs/stable/user_guide/indexing.html#returning-a-view-versus-a-copy\n",
      "  df.y[df.y < -lower_value] = -lower_value\n"
     ]
    },
    {
     "name": "stdout",
     "output_type": "stream",
     "text": [
      "(225064, 24) (225064, 1)\n"
     ]
    }
   ],
   "source": [
    "g, x_val_batch, y_val_batch, x, y = model_forecast.main_preprocess(steps_shift, split=False, altered_forecasting=True)"
   ]
  },
  {
   "cell_type": "markdown",
   "id": "82300c96",
   "metadata": {},
   "source": [
    "Plotting the smoothed total flow sum"
   ]
  },
  {
   "cell_type": "code",
   "execution_count": 37,
   "id": "540029ef",
   "metadata": {},
   "outputs": [
    {
     "data": {
      "text/plain": [
       "Text(0, 0.5, 'count')"
      ]
     },
     "execution_count": 37,
     "metadata": {},
     "output_type": "execute_result"
    },
    {
     "data": {
      "image/png": "[encoded data removed]",
      "text/plain": [
       "<Figure size 432x288 with 1 Axes>"
      ]
     },
     "metadata": {
      "needs_background": "light"
     },
     "output_type": "display_data"
    }
   ],
   "source": [
    "sum_total_flow = model_forecast.train_df['total']+model_forecast.train_df['flow']\n",
    "sum_total_flow.plot(style = 'r--', label = 'original')\n",
    "sum_total_flow.ewm(span = 3000).mean().plot(style = 'b', label = ' smoothed')\n",
    "\n",
    "plt.legend()\n",
    "plt.title(\"sum of total and flow\")\n",
    "plt.xlabel('value')\n",
    "plt.ylabel('count')"
   ]
  },
  {
   "cell_type": "markdown",
   "id": "8d902fb3",
   "metadata": {},
   "source": [
    "Plotting some targets"
   ]
  },
  {
   "cell_type": "code",
   "execution_count": 38,
   "id": "212c77fb",
   "metadata": {
    "scrolled": true
   },
   "outputs": [
    {
     "data": {
      "text/plain": [
       "[<matplotlib.lines.Line2D at 0x20a8c1a20a0>]"
      ]
     },
     "execution_count": 38,
     "metadata": {},
     "output_type": "execute_result"
    },
    {
     "data": {
      "image/png": "[encoded data removed]",
      "text/plain": [
       "<Figure size 432x288 with 1 Axes>"
      ]
     },
     "metadata": {
      "needs_background": "light"
     },
     "output_type": "display_data"
    }
   ],
   "source": [
    "plt.plot(model_forecast.target_train_df['y'][:100])"
   ]
  },
  {
   "cell_type": "markdown",
   "id": "e8583a4a",
   "metadata": {},
   "source": [
    "Test the generator"
   ]
  },
  {
   "cell_type": "code",
   "execution_count": 39,
   "id": "855c4db4",
   "metadata": {
    "scrolled": true
   },
   "outputs": [
    {
     "name": "stdout",
     "output_type": "stream",
     "text": [
      "(256, 24, 24) (256, 1, 1)\n"
     ]
    }
   ],
   "source": [
    "gen = model_forecast.batch_generator(x, y, 256, steps_shift, x.shape[1], len(x))\n",
    "x_batch, y_batch = next(gen)\n",
    "batch = 0  \n",
    "signal = 0 \n",
    "print(x_batch.shape, y_batch.shape)"
   ]
  },
  {
   "cell_type": "markdown",
   "id": "f0455120",
   "metadata": {},
   "source": [
    "### Scale the data and make the sequences"
   ]
  },
  {
   "cell_type": "code",
   "execution_count": 40,
   "id": "8afd0a8a",
   "metadata": {},
   "outputs": [],
   "source": [
    "x_test_scaled, y_test_scaled = model_forecast.scale_data(model_forecast.test_df, model_forecast.target_test_df, steps_shift)\n",
    "x_test_batch, y_test_batch = model_forecast.batch_generator_separated(x_test_scaled, y_test_scaled, steps_shift)"
   ]
  },
  {
   "cell_type": "code",
   "execution_count": 41,
   "id": "98aad573",
   "metadata": {},
   "outputs": [],
   "source": [
    "features_count = x_test_scaled.shape[1]"
   ]
  },
  {
   "cell_type": "markdown",
   "id": "a43ee1f2",
   "metadata": {},
   "source": [
    "### Creat the RNN model"
   ]
  },
  {
   "cell_type": "code",
   "execution_count": 42,
   "id": "c81486ed",
   "metadata": {},
   "outputs": [
    {
     "name": "stdout",
     "output_type": "stream",
     "text": [
      "Model: \"RNN\"\n",
      "_________________________________________________________________\n",
      " Layer (type)                Output Shape              Param #   \n",
      "=================================================================\n",
      " input_2 (InputLayer)        [(None, 24, 24)]          0         \n",
      "                                                                 \n",
      " gru_2 (GRU)                 (None, 24, 512)           826368    \n",
      "                                                                 \n",
      " gru_3 (GRU)                 (None, 32)                52416     \n",
      "                                                                 \n",
      " output (Dense)              (None, 5)                 165       \n",
      "                                                                 \n",
      " dense_1 (Dense)             (None, 1)                 6         \n",
      "                                                                 \n",
      "=================================================================\n",
      "Total params: 878,955\n",
      "Trainable params: 878,955\n",
      "Non-trainable params: 0\n",
      "_________________________________________________________________\n"
     ]
    },
    {
     "name": "stderr",
     "output_type": "stream",
     "text": [
      "C:\\Users\\hadho\\AppData\\Roaming\\Python\\Python39\\site-packages\\keras\\optimizers\\optimizer_v2\\rmsprop.py:135: UserWarning: The `lr` argument is deprecated, use `learning_rate` instead.\n",
      "  super(RMSprop, self).__init__(name, **kwargs)\n"
     ]
    }
   ],
   "source": [
    "rnn_model = RNN_model((steps_shift, features_count), 1)\n",
    "rnn_model.define_RNN_model()"
   ]
  },
  {
   "cell_type": "code",
   "execution_count": 43,
   "id": "b9ede883",
   "metadata": {},
   "outputs": [],
   "source": [
    "rnn_model.load_model('24_11_alt') # load a saved model"
   ]
  },
  {
   "cell_type": "markdown",
   "id": "6603a78d",
   "metadata": {},
   "source": [
    "Fit the model"
   ]
  },
  {
   "cell_type": "code",
   "execution_count": null,
   "id": "4ed98f3c",
   "metadata": {},
   "outputs": [],
   "source": [
    "history = rnn_model.fit_model(g, (x_val_batch, y_val_batch), rnn_model.define_callbacks())\n",
    "print(history.history)"
   ]
  },
  {
   "cell_type": "markdown",
   "id": "c74c21f9",
   "metadata": {},
   "source": [
    "### Predict two hours in the future"
   ]
  },
  {
   "cell_type": "code",
   "execution_count": 55,
   "id": "dca3a10a",
   "metadata": {
    "scrolled": true
   },
   "outputs": [
    {
     "name": "stdout",
     "output_type": "stream",
     "text": [
      "y_true y_predicted\n",
      "[0.34493051] [0.35577148]\n",
      "y_true y_predicted\n",
      "[0.33958526] [0.35844707]\n",
      "y_true y_predicted\n",
      "[0.33235871] [0.3580642]\n",
      "y_true y_predicted\n",
      "[0.35625286] [0.35836107]\n",
      "y_true y_predicted\n",
      "[0.42117218] [0.41335842]\n",
      "y_true y_predicted\n",
      "[0.45115448] [0.41335773]\n",
      "y_true y_predicted\n",
      "[0.44005344] [0.41335684]\n",
      "y_true y_predicted\n",
      "[0.42969473] [0.41335613]\n",
      "y_true y_predicted\n",
      "[0.42588798] [0.41335532]\n",
      "y_true y_predicted\n",
      "[0.41769239] [0.4133547]\n",
      "y_true y_predicted\n",
      "[0.41207941] [0.41335425]\n",
      "y_true y_predicted\n",
      "[0.40577745] [0.41335398]\n",
      "y_true y_predicted\n",
      "[0.40264556] [0.41335365]\n",
      "y_true y_predicted\n",
      "[0.39887588] [0.4133534]\n",
      "y_true y_predicted\n",
      "[0.39840372] [0.413353]\n",
      "y_true y_predicted\n",
      "[0.41759575] [0.4133588]\n",
      "y_true y_predicted\n",
      "[0.47565533] [0.41335204]\n",
      "y_true y_predicted\n",
      "[0.49977969] [0.5070373]\n",
      "y_true y_predicted\n",
      "[0.49421331] [0.50640863]\n",
      "y_true y_predicted\n",
      "[0.48704601] [0.46142808]\n",
      "y_true y_predicted\n",
      "[0.48439674] [0.46142262]\n",
      "y_true y_predicted\n",
      "[0.47965084] [0.46142614]\n",
      "y_true y_predicted\n",
      "[0.47522279] [0.46143067]\n",
      "y_true y_predicted\n",
      "[0.46953795] [0.4614349]\n"
     ]
    }
   ],
   "source": [
    "y_predicted, y_true_forecast = model_forecast.predict_multi_steps(rnn_model, 12 * 2, x, y, steps_shift, 750, show=True)"
   ]
  },
  {
   "cell_type": "code",
   "execution_count": 57,
   "id": "320bb14a-b5ca-4353-a2c6-c7e702aa66d1",
   "metadata": {},
   "outputs": [
    {
     "data": {
      "image/png": "[encoded data removed]",
      "text/plain": [
       "<Figure size 432x288 with 1 Axes>"
      ]
     },
     "metadata": {
      "needs_background": "light"
     },
     "output_type": "display_data"
    }
   ],
   "source": [
    "model_forecast.plot_forecast(y[650:774], y_true_forecast, y_predicted)"
   ]
  },
  {
   "cell_type": "markdown",
   "id": "adf7b684",
   "metadata": {},
   "source": [
    "Rescale the data"
   ]
  },
  {
   "cell_type": "code",
   "execution_count": 58,
   "id": "313142e1-f712-44a9-b2ce-0fe3738620f6",
   "metadata": {},
   "outputs": [],
   "source": [
    "y_rescaled = model_forecast.minmax_scaler_target.inverse_transform(y)\n",
    "y_true_forecast_rescaled = model_forecast.minmax_scaler_target.inverse_transform(y_true_forecast)\n",
    "y_predicted_rescaled = model_forecast.minmax_scaler_target.inverse_transform(y_predicted)"
   ]
  },
  {
   "cell_type": "code",
   "execution_count": 59,
   "id": "112403f9",
   "metadata": {},
   "outputs": [
    {
     "data": {
      "image/png": "[encoded data removed]",
      "text/plain": [
       "<Figure size 432x288 with 1 Axes>"
      ]
     },
     "metadata": {
      "needs_background": "light"
     },
     "output_type": "display_data"
    }
   ],
   "source": [
    "# model_forecast.plot_forecast(y_rescaled[24000:24124], y_true_forecast_rescaled, y_predicted_rescaled)\n",
    "model_forecast.plot_forecast(y_rescaled[650:774], y_true_forecast_rescaled, y_predicted_rescaled)"
   ]
  },
  {
   "cell_type": "markdown",
   "id": "472373cc",
   "metadata": {},
   "source": [
    "### Evaluate validation data"
   ]
  },
  {
   "cell_type": "code",
   "execution_count": 69,
   "id": "1ad99db4",
   "metadata": {},
   "outputs": [
    {
     "name": "stdout",
     "output_type": "stream",
     "text": [
      "878/878 [==============================] - 38s 42ms/step - loss: 0.0499\n"
     ]
    },
    {
     "data": {
      "text/plain": [
       "0.049872029572725296"
      ]
     },
     "execution_count": 69,
     "metadata": {},
     "output_type": "execute_result"
    }
   ],
   "source": [
    "rnn_model.evaluate_test(x_test_batch, y_test_batch)"
   ]
  },
  {
   "cell_type": "markdown",
   "id": "f4a74f9c",
   "metadata": {},
   "source": [
    "### Prepare a test dataset"
   ]
  },
  {
   "cell_type": "code",
   "execution_count": 16,
   "id": "a9a65ddc",
   "metadata": {},
   "outputs": [],
   "source": [
    "test_df = pd.read_csv('no1_validation.csv')"
   ]
  },
  {
   "cell_type": "code",
   "execution_count": 17,
   "id": "76d361a5",
   "metadata": {},
   "outputs": [
    {
     "name": "stderr",
     "output_type": "stream",
     "text": [
      "C:\\Users\\hadho\\Desktop\\pro3\\PreProcess.py:30: SettingWithCopyWarning: \n",
      "A value is trying to be set on a copy of a slice from a DataFrame\n",
      "\n",
      "See the caveats in the documentation: https://pandas.pydata.org/pandas-docs/stable/user_guide/indexing.html#returning-a-view-versus-a-copy\n",
      "  df.y[df.y > upper_value] = upper_value\n",
      "C:\\Users\\hadho\\Desktop\\pro3\\PreProcess.py:31: SettingWithCopyWarning: \n",
      "A value is trying to be set on a copy of a slice from a DataFrame\n",
      "\n",
      "See the caveats in the documentation: https://pandas.pydata.org/pandas-docs/stable/user_guide/indexing.html#returning-a-view-versus-a-copy\n",
      "  df.y[df.y < -lower_value] = -lower_value\n"
     ]
    }
   ],
   "source": [
    "test_df, test_target = model_forecast.prepare_dataset(test_df, steps_shift, altered_forecasting=False)"
   ]
  },
  {
   "cell_type": "code",
   "execution_count": 18,
   "id": "354e53f4",
   "metadata": {},
   "outputs": [],
   "source": [
    "x_test_scaled, y_test_scaled = model_forecast.scale_data(test_df, test_target, steps_shift, train=False)"
   ]
  },
  {
   "cell_type": "code",
   "execution_count": 19,
   "id": "9442c75f",
   "metadata": {},
   "outputs": [],
   "source": [
    "x_val_batch, y_val_batch = model_forecast.batch_generator_separated(x_test_scaled, y_test_scaled, steps_shift)"
   ]
  },
  {
   "cell_type": "code",
   "execution_count": 20,
   "id": "8b67b83f",
   "metadata": {},
   "outputs": [
    {
     "name": "stdout",
     "output_type": "stream",
     "text": [
      "878/878 [==============================] - 38s 41ms/step - loss: 0.0919\n"
     ]
    },
    {
     "data": {
      "text/plain": [
       "0.09186359494924545"
      ]
     },
     "execution_count": 20,
     "metadata": {},
     "output_type": "execute_result"
    }
   ],
   "source": [
    "rnn_model.evaluate_test(x_val_batch, y_val_batch)"
   ]
  },
  {
   "cell_type": "code",
   "execution_count": null,
   "id": "c920e8b7",
   "metadata": {},
   "outputs": [],
   "source": []
  },
  {
   "cell_type": "code",
   "execution_count": null,
   "id": "dc21ca00",
   "metadata": {},
   "outputs": [],
   "source": []
  }
 ],
 "metadata": {
  "environment": {
   "kernel": "python3",
   "name": "tf2-gpu.2-8.m91",
   "type": "gcloud",
   "uri": "gcr.io/deeplearning-platform-release/tf2-gpu.2-8:m91"
  },
  "kernelspec": {
   "display_name": "Python 3 (ipykernel)",
   "language": "python",
   "name": "python3"
  },
  "language_info": {
   "codemirror_mode": {
    "name": "ipython",
    "version": 3
   },
   "file_extension": ".py",
   "mimetype": "text/x-python",
   "name": "python",
   "nbconvert_exporter": "python",
   "pygments_lexer": "ipython3",
   "version": "3.9.0"
  }
 },
 "nbformat": 4,
 "nbformat_minor": 5
}
