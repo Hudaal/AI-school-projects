{
 "cells": [
  {
   "cell_type": "code",
   "execution_count": 1,
   "id": "57cfce8e-1337-4f8a-b391-5aa514e48927",
   "metadata": {},
   "outputs": [],
   "source": [
    "import matplotlib.pyplot as plt\n",
    "import numpy as np\n",
    "import pandas as pd\n",
    "import copy\n",
    "from sklearn.preprocessing import MinMaxScaler, StandardScaler\n",
    "from scipy.interpolate import make_interp_spline\n",
    "import math\n",
    "\n",
    "from PreProcess import PreProcess\n",
    "from RNN_model import RNN_model"
   ]
  },
  {
   "cell_type": "code",
   "execution_count": 2,
   "id": "320bb14a-b5ca-4353-a2c6-c7e702aa66d1",
   "metadata": {},
   "outputs": [
    {
     "name": "stderr",
     "output_type": "stream",
     "text": [
      "2022-05-05 19:40:22.192789: I tensorflow/core/common_runtime/process_util.cc:146] Creating new thread pool with default inter op setting: 2. Tune using inter_op_parallelism_threads for best performance.\n"
     ]
    },
    {
     "name": "stdout",
     "output_type": "stream",
     "text": [
      "Model: \"RNN\"\n",
      "_________________________________________________________________\n",
      " Layer (type)                Output Shape              Param #   \n",
      "=================================================================\n",
      " input_1 (InputLayer)        [(None, 24, 24)]          0         \n",
      "                                                                 \n",
      " gru (GRU)                   (None, 24, 512)           826368    \n",
      "                                                                 \n",
      " gru_1 (GRU)                 (None, 32)                52416     \n",
      "                                                                 \n",
      " output (Dense)              (None, 5)                 165       \n",
      "                                                                 \n",
      " dense (Dense)               (None, 1)                 6         \n",
      "                                                                 \n",
      "=================================================================\n",
      "Total params: 878,955\n",
      "Trainable params: 878,955\n",
      "Non-trainable params: 0\n",
      "_________________________________________________________________\n"
     ]
    },
    {
     "name": "stderr",
     "output_type": "stream",
     "text": [
      "/opt/conda/lib/python3.7/site-packages/keras/optimizer_v2/rmsprop.py:130: UserWarning: The `lr` argument is deprecated, use `learning_rate` instead.\n",
      "  super(RMSprop, self).__init__(name, **kwargs)\n"
     ]
    },
    {
     "name": "stdout",
     "output_type": "stream",
     "text": [
      "HERE2\n"
     ]
    },
    {
     "name": "stderr",
     "output_type": "stream",
     "text": [
      "/home/jupyter/src/code2/PreProcess.py:30: SettingWithCopyWarning: \n",
      "A value is trying to be set on a copy of a slice from a DataFrame\n",
      "\n",
      "See the caveats in the documentation: https://pandas.pydata.org/pandas-docs/stable/user_guide/indexing.html#returning-a-view-versus-a-copy\n",
      "  df.y[df.y > upper_value] = upper_value\n",
      "/home/jupyter/src/code2/PreProcess.py:31: SettingWithCopyWarning: \n",
      "A value is trying to be set on a copy of a slice from a DataFrame\n",
      "\n",
      "See the caveats in the documentation: https://pandas.pydata.org/pandas-docs/stable/user_guide/indexing.html#returning-a-view-versus-a-copy\n",
      "  df.y[df.y < -lower_value] = -lower_value\n",
      "/home/jupyter/src/code2/PreProcess.py:68: FutureWarning: In a future version of pandas all arguments of DataFrame.drop except for the argument 'labels' will be keyword-only\n",
      "  df = df.drop(col, 1)\n"
     ]
    },
    {
     "name": "stdout",
     "output_type": "stream",
     "text": [
      "HERE2\n",
      "(225064, 24) (225064, 1)\n"
     ]
    },
    {
     "name": "stderr",
     "output_type": "stream",
     "text": [
      "/opt/conda/lib/python3.7/site-packages/sklearn/base.py:451: UserWarning: X does not have valid feature names, but MinMaxScaler was fitted with feature names\n",
      "  \"X does not have valid feature names, but\"\n",
      "/opt/conda/lib/python3.7/site-packages/sklearn/base.py:451: UserWarning: X does not have valid feature names, but MinMaxScaler was fitted with feature names\n",
      "  \"X does not have valid feature names, but\"\n",
      "/opt/conda/lib/python3.7/site-packages/sklearn/base.py:451: UserWarning: X does not have valid feature names, but MinMaxScaler was fitted with feature names\n",
      "  \"X does not have valid feature names, but\"\n",
      "/opt/conda/lib/python3.7/site-packages/sklearn/base.py:451: UserWarning: X does not have valid feature names, but MinMaxScaler was fitted with feature names\n",
      "  \"X does not have valid feature names, but\"\n",
      "/opt/conda/lib/python3.7/site-packages/sklearn/base.py:451: UserWarning: X does not have valid feature names, but MinMaxScaler was fitted with feature names\n",
      "  \"X does not have valid feature names, but\"\n",
      "/opt/conda/lib/python3.7/site-packages/sklearn/base.py:451: UserWarning: X does not have valid feature names, but MinMaxScaler was fitted with feature names\n",
      "  \"X does not have valid feature names, but\"\n"
     ]
    },
    {
     "name": "stdout",
     "output_type": "stream",
     "text": [
      "HERE\n",
      "Epoch 1/20\n",
      "7033/7033 [==============================] - ETA: 0s - loss: 0.0125\n",
      "Epoch 1: val_loss improved from inf to 0.00972, saving model to 24_11_checkpoint\n",
      "7033/7033 [==============================] - 933s 132ms/step - loss: 0.0125 - val_loss: 0.0097 - lr: 0.0100\n",
      "Epoch 2/20\n",
      "7033/7033 [==============================] - ETA: 0s - loss: 0.0119\n",
      "Epoch 2: val_loss did not improve from 0.00972\n",
      "\n",
      "Epoch 2: ReduceLROnPlateau reducing learning rate to 0.0009999999776482583.\n",
      "7033/7033 [==============================] - 929s 132ms/step - loss: 0.0119 - val_loss: 0.0108 - lr: 0.0100\n",
      "Epoch 3/20\n",
      "7033/7033 [==============================] - ETA: 0s - loss: 0.0107\n",
      "Epoch 3: val_loss did not improve from 0.00972\n",
      "\n",
      "Epoch 3: ReduceLROnPlateau reducing learning rate to 0.0001.\n",
      "7033/7033 [==============================] - 916s 130ms/step - loss: 0.0107 - val_loss: 0.0098 - lr: 1.0000e-03\n",
      "Epoch 4/20\n",
      "7033/7033 [==============================] - ETA: 0s - loss: 0.0101\n",
      "Epoch 4: val_loss improved from 0.00972 to 0.00950, saving model to 24_11_checkpoint\n",
      "7033/7033 [==============================] - 927s 132ms/step - loss: 0.0101 - val_loss: 0.0095 - lr: 1.0000e-04\n",
      "Epoch 5/20\n",
      "7033/7033 [==============================] - ETA: 0s - loss: 0.0100\n",
      "Epoch 5: val_loss did not improve from 0.00950\n",
      "7033/7033 [==============================] - 919s 131ms/step - loss: 0.0100 - val_loss: 0.0097 - lr: 1.0000e-04\n",
      "Epoch 6/20\n",
      "7033/7033 [==============================] - ETA: 0s - loss: 0.0099\n",
      "Epoch 6: val_loss did not improve from 0.00950\n",
      "7033/7033 [==============================] - 949s 135ms/step - loss: 0.0099 - val_loss: 0.0095 - lr: 1.0000e-04\n",
      "Epoch 7/20\n",
      "7033/7033 [==============================] - ETA: 0s - loss: 0.0098\n",
      "Epoch 7: val_loss did not improve from 0.00950\n",
      "7033/7033 [==============================] - 932s 133ms/step - loss: 0.0098 - val_loss: 0.0097 - lr: 1.0000e-04\n",
      "Epoch 8/20\n",
      "7033/7033 [==============================] - ETA: 0s - loss: 0.0097\n",
      "Epoch 8: val_loss did not improve from 0.00950\n",
      "7033/7033 [==============================] - 958s 136ms/step - loss: 0.0097 - val_loss: 0.0097 - lr: 1.0000e-04\n",
      "Epoch 8: early stopping\n"
     ]
    },
    {
     "data": {
      "image/png": "[encoded data removed]",
      "text/plain": [
       "<Figure size 432x288 with 1 Axes>"
      ]
     },
     "metadata": {
      "needs_background": "light"
     },
     "output_type": "display_data"
    },
    {
     "name": "stdout",
     "output_type": "stream",
     "text": [
      "{'loss': [0.012506430968642235, 0.011893286369740963, 0.010695155709981918, 0.010128127411007881, 0.00997267384082079, 0.009872292168438435, 0.009794377721846104, 0.009712566621601582], 'val_loss': [0.009721771813929081, 0.010772820562124252, 0.009751971811056137, 0.009499196894466877, 0.009675070643424988, 0.009530308656394482, 0.009690635837614536, 0.009714312851428986], 'lr': [0.01, 0.01, 0.0009999999, 1e-04, 1e-04, 1e-04, 1e-04, 1e-04]}\n"
     ]
    },
    {
     "name": "stderr",
     "output_type": "stream",
     "text": [
      "/opt/conda/lib/python3.7/site-packages/sklearn/base.py:451: UserWarning: X does not have valid feature names, but MinMaxScaler was fitted with feature names\n",
      "  \"X does not have valid feature names, but\"\n",
      "/opt/conda/lib/python3.7/site-packages/sklearn/base.py:451: UserWarning: X does not have valid feature names, but MinMaxScaler was fitted with feature names\n",
      "  \"X does not have valid feature names, but\"\n",
      "/opt/conda/lib/python3.7/site-packages/sklearn/base.py:451: UserWarning: X does not have valid feature names, but MinMaxScaler was fitted with feature names\n",
      "  \"X does not have valid feature names, but\"\n"
     ]
    },
    {
     "name": "stdout",
     "output_type": "stream",
     "text": [
      "500 524 525\n",
      "[0.56089896] [0.6641133]\n",
      "501 525 526\n",
      "[0.5614783] [0.65382826]\n",
      "502 526 527\n",
      "[0.54187136] [0.66166526]\n",
      "503 527 528\n",
      "[0.53173543] [0.62419367]\n",
      "504 528 529\n",
      "[0.5368272] [0.6074163]\n",
      "505 529 530\n",
      "[0.54022154] [0.6010951]\n",
      "506 530 531\n",
      "[0.54712898] [0.6061927]\n",
      "507 531 532\n",
      "[0.55412957] [0.6071104]\n",
      "508 532 533\n",
      "[0.55694578] [0.60752255]\n",
      "509 533 534\n",
      "[0.54957545] [0.6083788]\n",
      "510 534 535\n",
      "[0.54792336] [0.60792786]\n",
      "511 535 536\n",
      "[0.54516905] [0.607345]\n",
      "512 536 537\n",
      "[0.54341218] [0.6072759]\n",
      "513 537 538\n",
      "[0.54766224] [0.60710245]\n",
      "514 538 539\n",
      "[0.53171531] [0.60732424]\n",
      "515 539 540\n",
      "[0.53472442] [0.60713637]\n",
      "516 540 541\n",
      "[0.54221858] [0.60180813]\n",
      "517 541 542\n",
      "[0.54771172] [0.6023861]\n",
      "518 542 543\n",
      "[0.55681503] [0.60308003]\n",
      "519 543 544\n",
      "[0.56183675] [0.6033168]\n",
      "520 544 545\n",
      "[0.56299534] [0.6019187]\n",
      "521 545 546\n",
      "[0.57887037] [0.60227203]\n",
      "522 546 547\n",
      "[0.58643546] [0.6000761]\n",
      "523 547 548\n",
      "[0.58715211] [0.5967291]\n"
     ]
    },
    {
     "data": {
      "image/png": "[encoded data removed]",
      "text/plain": [
       "<Figure size 432x288 with 1 Axes>"
      ]
     },
     "metadata": {
      "needs_background": "light"
     },
     "output_type": "display_data"
    }
   ],
   "source": [
    "model_forecast = PreProcess('no1_train.csv', 'no1_validation.csv')\n",
    "steps_shift = 12 * 2\n",
    "features_count = 24\n",
    "rnn_model = RNN_model((steps_shift, features_count), 1)\n",
    "rnn_model.define_RNN_model()\n",
    "g, x_val_batch, y_val_batch, x, y = model_forecast.main_preprocess(steps_shift, split=False, altered_forecasting=False)\n",
    "\n",
    "history = rnn_model.fit_model(g, (x_val_batch, y_val_batch), rnn_model.define_callbacks())\n",
    "print(history.history)\n",
    "\n",
    "x_test_scaled, y_test_scaled = model_forecast.scale_data(model_forecast.test_df, model_forecast.target_test_df, steps_shift)\n",
    "x_test_batch, y_test_batch = model_forecast.batch_generator_separated(x_test_scaled, y_test_scaled, steps_shift)\n",
    "\n",
    "y_predicted, y_true_forecast = model_forecast.predict_multi_steps(rnn_model, 12 * 2, x, y, steps_shift, 500)\n",
    "model_forecast.plot_forecast(y[400:524], y_true_forecast, y_predicted)"
   ]
  },
  {
   "cell_type": "code",
   "execution_count": null,
   "id": "313142e1-f712-44a9-b2ce-0fe3738620f6",
   "metadata": {},
   "outputs": [],
   "source": []
  }
 ],
 "metadata": {
  "environment": {
   "kernel": "python3",
   "name": "tf2-gpu.2-8.m91",
   "type": "gcloud",
   "uri": "gcr.io/deeplearning-platform-release/tf2-gpu.2-8:m91"
  },
  "kernelspec": {
   "display_name": "Python 3 (ipykernel)",
   "language": "python",
   "name": "python3"
  },
  "language_info": {
   "codemirror_mode": {
    "name": "ipython",
    "version": 3
   },
   "file_extension": ".py",
   "mimetype": "text/x-python",
   "name": "python",
   "nbconvert_exporter": "python",
   "pygments_lexer": "ipython3",
   "version": "3.9.0"
  }
 },
 "nbformat": 4,
 "nbformat_minor": 5
}
